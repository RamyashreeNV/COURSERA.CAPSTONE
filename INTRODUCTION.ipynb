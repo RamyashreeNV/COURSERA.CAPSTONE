{
 "cells": [
  {
   "cell_type": "markdown",
   "metadata": {},
   "source": [
    "# *CAPSTONE PROJECT- ANALYZING THE SEVERITY OF CAR ACCIDENTS*"
   ]
  },
  {
   "cell_type": "markdown",
   "metadata": {},
   "source": [
    "## Introduction/Business Understanding"
   ]
  },
  {
   "cell_type": "markdown",
   "metadata": {},
   "source": [
    "Life is so busy in this 21st century and we all are often in fast-track!! Everybody rushes and always want to reach their destination in no time!! This hurry sometimes can be life threatening as accidents might happen. Now-a-days,  road accidents are very common and most of the times they lead to loss of property, injuries and can even cause death. So, wouldn’t it be great to try to understand the most common causes, in order to prevent them from happening?\n",
    "\n",
    "In most cases, not paying enough attention during driving, abusing drugs and alcohol or driving at very high speed are the main causes of occurring accidents that can be prevented by enacting harsher regulations. Besides this, weather, visibility, or road conditions are the major uncontrollable factors that can be prevented by revealing hidden patterns in the data and announcing warning to the local government, police and drivers on the targeted roads. In order to understand these common factors that are causing accidents and the correlation between them, I am attempting to analyze the data from City of Seattle’s police department showing all the collisions from 2004 till present. \n",
    "\n",
    "In an effort to reduce the frequency of car collisions, an algorithm must be developed to predict the severity of an accident given the current weather, road and visibility conditions. \n",
    "The model and its results are going to provide some advice for the target audience to make insightful decisions for reducing the number of accidents in the city. "
   ]
  },
  {
   "cell_type": "code",
   "execution_count": null,
   "metadata": {},
   "outputs": [],
   "source": []
  }
 ],
 "metadata": {
  "kernelspec": {
   "display_name": "Python",
   "language": "python",
   "name": "conda-env-python-py"
  },
  "language_info": {
   "codemirror_mode": {
    "name": "ipython",
    "version": 3
   },
   "file_extension": ".py",
   "mimetype": "text/x-python",
   "name": "python",
   "nbconvert_exporter": "python",
   "pygments_lexer": "ipython3",
   "version": "3.6.11"
  }
 },
 "nbformat": 4,
 "nbformat_minor": 4
}
